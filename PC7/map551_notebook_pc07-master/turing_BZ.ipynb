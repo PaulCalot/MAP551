{
 "cells": [
  {
   "cell_type": "markdown",
   "metadata": {},
   "source": [
    "# Simulation of turing pattern in 1D"
   ]
  },
  {
   "cell_type": "code",
   "execution_count": null,
   "metadata": {},
   "outputs": [],
   "source": [
    "import numpy as np\n",
    "\n",
    "import random\n",
    "\n",
    "from bokeh.io import  output_notebook, push_notebook, show\n",
    "from bokeh.plotting import figure\n",
    "from bokeh.layouts import column, row\n",
    "from bokeh.palettes import Category10, Category20\n",
    "from bokeh.models import PrintfTickFormatter\n",
    "\n",
    "from ipywidgets import FloatProgress, IntProgress\n",
    "from IPython.display import display\n",
    "\n",
    "from mylib.turing_model_BZ import turing_model_BZ\n",
    "\n",
    "import mylib.integration as integration\n",
    "\n",
    "output_notebook(hide_banner=True)"
   ]
  },
  {
   "cell_type": "markdown",
   "metadata": {},
   "source": [
    "The systeme of reaction-diffusion is the following one :\n",
    "\n",
    "$$\n",
    "\\left\\{\n",
    "\\begin{array}{l}\n",
    "\\partial_t y_1 =  d_1 \\partial^2 _x y_1 + a - (b+1) y_1 + y_1^2y_2 \\\\\n",
    "\\partial_t y_2 =  d_2 \\partial^2 _x y_2 + b y_1 - y_1^2y_2,\n",
    "\\end{array}\n",
    "\\right.\n",
    "$$\n",
    "\n",
    "with Neumann boundary conditions."
   ]
  },
  {
   "cell_type": "code",
   "execution_count": null,
   "metadata": {},
   "outputs": [],
   "source": [
    "def plot_sol():\n",
    "\n",
    "    a = 2.\n",
    "    b = 3.\n",
    "    d1 = 1.\n",
    "    d2 = 8.\n",
    "    L = 3.\n",
    "    xmin = 0.\n",
    "    xmax = L\n",
    "    # nb of points including the boundary\n",
    "    nxib = 101\n",
    "    nx = nxib-2\n",
    "    tini = 0.0\n",
    "    tend = 200.0\n",
    "    neq = 2\n",
    "    # \"amplitude\" of the initial perturbation\n",
    "    eps = 0.01\n",
    "    \n",
    "    progress_bar = FloatProgress(min=tini, max=tend, value=tini, description='Progress:')\n",
    "    display(progress_bar)\n",
    "    \n",
    "    tm = turing_model_BZ(a=a, b=b, d1=d1, d2=d2, xmin=xmin, xmax=xmax, nx=nx)\n",
    "    fcn = tm.fcn_radau\n",
    "\n",
    "    yini = np.zeros((nx, neq))\n",
    "    x = np.linspace(xmin, xmax, nx)\n",
    "    yini[:,0] = a + eps*(2*np.random.random(nx)-1)\n",
    "    yini[:,1] = b/a + eps*(2*np.random.random(nx)-1)\n",
    "    #yini[:,0] = a + 0.1*eps*np.cos(5*x*np.pi/L) + eps*np.cos(6*x*np.pi/L)\n",
    "    #yini[:,1] = b/a + 0.1*eps*np.cos(5*x*np.pi/L) + eps*np.cos(6*x*np.pi/L)\n",
    "    yini = yini.flatten()\n",
    "    \n",
    "    fig_sol_y1 = figure(x_range=(xmin, xmax), plot_height=300, plot_width=950, title=\"Solution y1\")\n",
    "    fig_sol_y2 = figure(x_range=(xmin, xmax), plot_height=300, plot_width=950, title=\"Solution y2\")\n",
    "\n",
    "    y1 = yini.reshape(nx,neq)[:,0]\n",
    "    y2 = yini.reshape(nx,neq)[:,1]\n",
    "    fig_sol_y1.x(x, y1, color=\"grey\", legend = \"sol at t=0\")\n",
    "    fig_sol_y2.x(x, y2, color=\"grey\", legend = \"sol at t=0\")\n",
    "    \n",
    "    nt_plot = 6\n",
    "    t_plot = np.linspace(tini, tend, nt_plot)\n",
    "    \n",
    "    for it, ti in enumerate(t_plot[:-1]):\n",
    "        \n",
    "        ##print(it)\n",
    "        sol = integration.radau5(t_plot[it], t_plot[it+1], yini, fcn, njac=2, atol=1.e-4, rtol=1.e-4)\n",
    "        y1 = sol.y.reshape(nx,neq)[:,0]\n",
    "        y2 = sol.y.reshape(nx,neq)[:,1]\n",
    "        fig_sol_y1.x(x, y1, legend=f\"sol at t={t_plot[it+1]}\", color=Category10[10][it])\n",
    "        fig_sol_y2.x(x, y2, legend=f\"sol at t={t_plot[it+1]}\", color=Category10[10][it])        \n",
    "        yini = sol.y        \n",
    "        progress_bar.value = t_plot[it+1]\n",
    "\n",
    "    fig_sol_y1.legend.click_policy=\"hide\"\n",
    "    fig_sol_y2.legend.click_policy=\"hide\"   \n",
    "    show(column(fig_sol_y1, fig_sol_y2))\n",
    "\n",
    "plot_sol()"
   ]
  }
 ],
 "metadata": {
  "@webio": {
   "lastCommId": null,
   "lastKernelId": null
  },
  "kernelspec": {
   "display_name": "Python 3",
   "language": "python",
   "name": "python3"
  },
  "language_info": {
   "codemirror_mode": {
    "name": "ipython",
    "version": 3
   },
   "file_extension": ".py",
   "mimetype": "text/x-python",
   "name": "python",
   "nbconvert_exporter": "python",
   "pygments_lexer": "ipython3",
   "version": "3.7.6"
  },
  "latex_envs": {
   "LaTeX_envs_menu_present": true,
   "autoclose": false,
   "autocomplete": false,
   "bibliofile": "biblio.bib",
   "cite_by": "apalike",
   "current_citInitial": 1,
   "eqLabelWithNumbers": true,
   "eqNumInitial": 1,
   "hotkeys": {
    "equation": "Ctrl-E",
    "itemize": "Ctrl-I"
   },
   "labels_anchors": false,
   "latex_user_defs": false,
   "report_style_numbering": false,
   "user_envs_cfg": false
  }
 },
 "nbformat": 4,
 "nbformat_minor": 2
}
