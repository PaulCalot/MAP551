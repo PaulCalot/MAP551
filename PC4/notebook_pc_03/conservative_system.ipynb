{
 "cells": [
  {
   "cell_type": "code",
   "execution_count": null,
   "metadata": {
    "scrolled": true
   },
   "outputs": [],
   "source": [
    "import numpy as np\n",
    "\n",
    "from scipy.integrate import solve_ivp\n",
    "\n",
    "from bokeh.io import push_notebook, show, output_notebook\n",
    "from bokeh.plotting import figure\n",
    "from bokeh.layouts import row\n",
    "\n",
    "from mylib.model import three_body_model\n",
    "from mylib.integration import forward_euler, backward_euler\n",
    "\n",
    "output_notebook(hide_banner=True)"
   ]
  },
  {
   "cell_type": "markdown",
   "metadata": {},
   "source": [
    "# Conservative System and Euler integration methods"
   ]
  },
  {
   "cell_type": "markdown",
   "metadata": {},
   "source": [
    "## A three body problem reduced "
   ]
  },
  {
   "cell_type": "markdown",
   "metadata": {},
   "source": [
    "We consider a reduced three body problem consisting of the motion of a satellite in the framework of the attraction of the moon and the earth. For the purpose of the exercise, we assume that the system earth-moon is in circular rotation at constant speed  in a planar motion with the mass center of gravity located at the origin and that the mass of the satellite $\\epsilon$ is small enough compared the mass of the earth $1-\\mu$ and the mass of the moon $\\mu$ to so that we can neglect its impact on the earth-moon system.  We also assume that the motion of the satellite is governed by the attraction of the two bodies earth and moon through the Newton gravitation law.\n",
    "\n",
    "The motion of the satellite in the complex plane satisfies the equation: \n",
    "\n",
    "$$\n",
    "\\epsilon\\, {\\mathrm d}_t^2 Y = \\frac{\\epsilon(1-\\mu)}{\\vert\\vert A-Y\\vert\\vert^2}\\, \\frac{A-Y}{\\vert\\vert A-Y\\vert\\vert}+ \\frac{\\epsilon\\mu}{\\vert\\vert B-Y\\vert\\vert^2}\\, \\frac{B-Y}{\\vert\\vert B-Y\\vert\\vert}.\n",
    "$$\n",
    "\n",
    "In order to eliminate the factor $e^{it}$ in $A=-\\mu\\,e^{it}$ and  $A=(1-\\mu)e^{it}$, we introduce the variable $y=e^{-it}\\,Y = y_1+i\\,y_2$. In this new referential the earth and the moon are motionless. We have $Y=e^{it}y$ and ${\\mathrm d}_t^2 Y = -e^{it}y+2\\,i\\,e^{it}{\\mathrm d}_t y+e^{it}{\\mathrm d}_t^2 y$ and the equation of motion thus read:\n",
    "\n",
    "$$\n",
    "{\\mathrm d}_t^2 y + 2\\,i\\,{\\mathrm d}_t y-y= (1-\\mu)\\,\\frac{-\\mu-y}{\\vert\\vert \\mu+y\\vert\\vert^3}+ \\mu\\, \\frac{1-\\mu-y}{\\vert\\vert 1-\\mu-y\\vert\\vert^3}.\n",
    "$$\n",
    "\n",
    "Introducing the real and imaginary parts of $y$ and then switching to a first order system of differential equations, we obtain:\n",
    "\n",
    "$$\n",
    "\\begin{array}{rcl} \n",
    "{\\mathrm d}_t y_1 & = & y_3, \\\\ \n",
    "{\\mathrm d}_t y_2 & = & y_4, \\\\ \n",
    "{\\mathrm d}_t y_3 & = & y_1+2\\,y_4- (1-\\mu)(y_1+\\mu)/r_1^3 - \\mu (y_1-1+\\mu)/r_2^3, \\\\\n",
    "{\\mathrm d}_t y_4 & = & y_2-2\\,y_3- (1-\\mu)y_2/r_1^3 - \\mu y_2/r_2^3,\n",
    "\\end{array} \n",
    "$$\n",
    "\n",
    "with $r_1=((y_1+\\mu)^2+y_2^2)^{1/2}$ and $((y_1-1+\\mu)^2+y_2^2)^{1/2}$.\n",
    "\n",
    "For the initial values given below, the motion of the satellite is on a periodic orbit with period $T \\approx 17.0652165601579625588917206249$."
   ]
  },
  {
   "cell_type": "code",
   "execution_count": null,
   "metadata": {
    "scrolled": false
   },
   "outputs": [],
   "source": [
    "# Initialization\n",
    "\n",
    "yini = (-0.5655899165951338, 0.601315396569226, -0.45171183358756384, 0.23073427996775764)\n",
    "#yini = (0.994, 0., 0., -2.00158510637908252240537862224)\n",
    "\n",
    "tini = 0.\n",
    "tend = 18.\n",
    "\n",
    "mu = 0.012277471\n",
    "    \n",
    "tbm = three_body_model(mu)\n",
    "fcn = tbm.fcn\n",
    "\n",
    "def compute_invariant(y):\n",
    "    y1 = y[0]\n",
    "    y2 = y[1]\n",
    "    y3 = y[2]\n",
    "    y4 = y[3]\n",
    "    r1 = np.sqrt((y1+mu)*(y1+mu) + y2*y2)\n",
    "    r2 = np.sqrt((y1-1+mu)*(y1-1+mu) + y2*y2)\n",
    "    inv = 0.5*(y3*y3 + y4*y4) - 0.5*(y1*y1 + y2*y2) - (1-mu)/r1 - mu/r2\n",
    "    return inv\n",
    "\n",
    "inv_ini = compute_invariant(yini)"
   ]
  },
  {
   "cell_type": "markdown",
   "metadata": {},
   "source": [
    "## Quasi-exact solution\n",
    "\n",
    "The quasi-exact solution is obtained by using an explicit Runge-Kutta method of order(4)5 due to Dormand and Prince with stepsize control (RK45) with very fine tolerances."
   ]
  },
  {
   "cell_type": "code",
   "execution_count": null,
   "metadata": {},
   "outputs": [],
   "source": [
    "def plot_quasi_exact_sol():\n",
    "    \n",
    "    tini = 0. \n",
    "    tend = 18.\n",
    "    \n",
    "    tol = 1.e-12\n",
    "    sol = solve_ivp(fcn, (tini, tend), yini, rtol=tol, atol=tol)\n",
    "\n",
    "    inv = compute_invariant(sol.y)\n",
    "\n",
    "    fig_sol = figure(x_range=(-1.5,1.5), y_range=(-1.5,1.5), width=450, height=450, title=\"Arenstorf orbit\")\n",
    "    fig_sol.line(sol.y[0], sol.y[1], legend_label=\"Quasi exact solution\", line_width=2)\n",
    "    fig_sol.circle(0., 0., size=10, color=\"black\")\n",
    "    fig_sol.circle(1., 0., size=5, color=\"black\")\n",
    "    \n",
    "    eps = 1.e-9\n",
    "    fig_inv = figure(x_range=(tini,tend), y_range=(-eps,eps), width=450, height=450, \n",
    "                     title=\"Invariant - (initial invariant)\")\n",
    "    fig_inv.line(sol.t, inv-inv_ini, line_width=2)\n",
    "    \n",
    "    show(row(fig_sol, fig_inv))\n",
    "    \n",
    "    fig_sol_bis= figure(x_range=(tini, tend+2), width=950, height=350, title=\"Solution\")\n",
    "    fig_sol_bis.line(sol.t, sol.y[0], line_width=2, legend_label='y1')\n",
    "    fig_sol_bis.line(sol.t, sol.y[1], line_width=2, color=\"crimson\", legend_label='y2')\n",
    "    fig_sol_bis.line(sol.t, sol.y[2], line_width=2, color=\"purple\", legend_label='y3')\n",
    "    fig_sol_bis.line(sol.t, sol.y[3], line_width=2, color=\"green\", legend_label='y4')\n",
    "    fig_sol_bis.legend.click_policy=\"hide\"\n",
    "\n",
    "    show(fig_sol_bis)\n",
    "    \n",
    "plot_quasi_exact_sol()"
   ]
  },
  {
   "cell_type": "markdown",
   "metadata": {},
   "source": [
    "## Forward Euler"
   ]
  },
  {
   "cell_type": "code",
   "execution_count": null,
   "metadata": {},
   "outputs": [],
   "source": [
    "def plot_forward_euler():\n",
    "    \n",
    "    tini = 0. \n",
    "    tend = 18.\n",
    "    tend_bis = 18\n",
    "\n",
    "    tol = 1.e-12\n",
    "    sol = solve_ivp(fcn, (tini, tend), yini, rtol=tol, atol=tol)\n",
    "\n",
    "    nt = 180000\n",
    "    sol_fe = forward_euler(tini, tend_bis, nt, yini, fcn)\n",
    "    \n",
    "    inv = compute_invariant(sol.y)\n",
    "    inv_fe = compute_invariant(sol_fe.y)\n",
    "\n",
    "    fig_sol = figure(x_range=(-1.5,1.5), y_range=(-1.5,1.5), width=450, height=450, title=\"Arenstorf orbit\")\n",
    "    fig_sol.line(sol.y[0], sol.y[1], legend_label=\"Quasi exact solution\", line_width=2)\n",
    "    fig_sol.line(sol_fe.y[0], sol_fe.y[1], legend_label=\"Forward Euler\", line_width=2, color=\"crimson\")\n",
    "    fig_sol.circle(0., 0., size=10, color=\"black\")\n",
    "    fig_sol.circle(1., 0., size=5, color=\"black\")\n",
    "\n",
    "    fig_inv = figure(x_range=(tini-1,tend), width=450, height=450, title=\"Invariant - (initial invariant)\")\n",
    "    fig_inv.line(sol.t, inv-inv_ini, line_width=2, legend_label=\"Quasi exact solution\")\n",
    "    fig_inv.line(sol_fe.t, inv_fe-inv_ini, line_width=2, color=\"crimson\", legend_label=\"Forward Euler\")\n",
    "    fig_inv.legend.location = \"center_right\"\n",
    "    \n",
    "    fig_sol.legend.click_policy=\"hide\"\n",
    "    \n",
    "    show(row(fig_sol, fig_inv))\n",
    "    \n",
    "plot_forward_euler()"
   ]
  },
  {
   "cell_type": "markdown",
   "metadata": {},
   "source": [
    "## Backward Euler"
   ]
  },
  {
   "cell_type": "code",
   "execution_count": null,
   "metadata": {},
   "outputs": [],
   "source": [
    "def plot_backward_euler():\n",
    "    \n",
    "    tini = 0. \n",
    "    tend = 18.\n",
    "\n",
    "    tol = 1.e-12\n",
    "    sol = solve_ivp(fcn, (tini, tend), yini, rtol=tol, atol=tol)\n",
    "\n",
    "    nt = 180000\n",
    "    sol_be = backward_euler(tini, tend, nt, yini, fcn)\n",
    "    \n",
    "    inv = compute_invariant(sol.y)\n",
    "    inv_be = compute_invariant(sol_be.y)\n",
    "\n",
    "    fig_sol = figure(x_range=(-1.5,1.5), y_range=(-1.5,1.5), width=450, height=450, title=\"Arenstorf orbit\")\n",
    "    fig_sol.line(sol.y[0], sol.y[1], legend_label=\"Quasi exact solution\", line_width=2)\n",
    "    fig_sol.line(sol_be.y[0], sol_be.y[1], legend_label=\"Backward Euler\", line_width=2, color=\"green\")\n",
    "    fig_sol.circle(0., 0., size=10, color=\"black\")\n",
    "    fig_sol.circle(1., 0., size=5, color=\"black\")\n",
    "\n",
    "    \n",
    "    fig_inv = figure(x_range=(tini-1,tend), width=450, height=450, title=\"Invariant - (initial invariant)\")\n",
    "    fig_inv.line(sol.t, inv-inv_ini, line_width=2, legend_label=\"Quasi exact solution\")\n",
    "    fig_inv.line(sol_be.t, inv_be-inv_ini, line_width=2, color=\"green\", legend_label=\"Backward Euler\")\n",
    "    fig_inv.legend.location = \"center_right\"\n",
    "    \n",
    "    fig_sol.legend.click_policy=\"hide\"\n",
    "\n",
    "    show(row(fig_sol, fig_inv))\n",
    "    \n",
    "plot_backward_euler()"
   ]
  },
  {
   "cell_type": "markdown",
   "metadata": {},
   "source": [
    "## RK45 on several periods"
   ]
  },
  {
   "cell_type": "code",
   "execution_count": null,
   "metadata": {
    "scrolled": false
   },
   "outputs": [],
   "source": [
    "def plot_rk45():\n",
    "    \n",
    "    tini = 0. \n",
    "    tend = 4*18.\n",
    "    \n",
    "    tol = 1.e-12\n",
    "    sol = solve_ivp(fcn, (tini, tend), yini, rtol=tol, atol=tol)\n",
    "\n",
    "    inv = compute_invariant(sol.y)\n",
    "\n",
    "    fig_sol = figure(x_range=(-1.5,1.5), y_range=(-1.5,1.5), width=450, height=450, title=\"Arenstorf orbit\")\n",
    "    fig_sol.line(sol.y[0], sol.y[1], legend_label=\"RK45\", line_width=2)\n",
    "    \n",
    "    eps = 1.e-9\n",
    "    fig_inv = figure(x_range=(tini,tend), y_range=(-eps,eps), width=450, height=450, \n",
    "                     title=\"Invariant - (initial invariant)\")\n",
    "    fig_inv.line(sol.t, inv-inv_ini, line_width=2)\n",
    "    fig_sol.circle(0., 0., size=10, color=\"black\")\n",
    "    fig_sol.circle(1., 0., size=5, color=\"black\")\n",
    "\n",
    "    \n",
    "    show(row(fig_sol, fig_inv))\n",
    "    \n",
    "plot_rk45()"
   ]
  },
  {
   "cell_type": "code",
   "execution_count": null,
   "metadata": {},
   "outputs": [],
   "source": []
  }
 ],
 "metadata": {
  "@webio": {
   "lastCommId": null,
   "lastKernelId": null
  },
  "kernelspec": {
   "display_name": "Python 3",
   "language": "python",
   "name": "python3"
  },
  "language_info": {
   "codemirror_mode": {
    "name": "ipython",
    "version": 3
   },
   "file_extension": ".py",
   "mimetype": "text/x-python",
   "name": "python",
   "nbconvert_exporter": "python",
   "pygments_lexer": "ipython3",
   "version": "3.7.6"
  },
  "latex_envs": {
   "LaTeX_envs_menu_present": true,
   "autoclose": false,
   "autocomplete": false,
   "bibliofile": "biblio.bib",
   "cite_by": "apalike",
   "current_citInitial": 1,
   "eqLabelWithNumbers": true,
   "eqNumInitial": 1,
   "hotkeys": {
    "equation": "Ctrl-E",
    "itemize": "Ctrl-I"
   },
   "labels_anchors": false,
   "latex_user_defs": false,
   "report_style_numbering": false,
   "user_envs_cfg": false
  }
 },
 "nbformat": 4,
 "nbformat_minor": 2
}
