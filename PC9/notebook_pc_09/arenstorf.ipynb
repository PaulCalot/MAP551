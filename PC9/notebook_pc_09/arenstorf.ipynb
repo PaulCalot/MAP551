{
 "cells": [
  {
   "cell_type": "markdown",
   "metadata": {},
   "source": [
    "# Arenstorf orbit"
   ]
  },
  {
   "cell_type": "code",
   "execution_count": null,
   "metadata": {},
   "outputs": [],
   "source": [
    "import mylib.integration as integration\n",
    "from mylib.model import arenstorf_model\n",
    "\n",
    "import numpy as np\n",
    "from scipy.integrate import solve_ivp\n",
    "\n",
    "from bokeh.io import  output_notebook, show\n",
    "from bokeh.plotting import figure\n",
    "from bokeh.layouts import column, row, widgetbox\n",
    "from bokeh.models import Legend\n",
    "from bokeh.models.widgets import Slider\n",
    "\n",
    "from bokeh.application.handlers import FunctionHandler\n",
    "from bokeh.application import Application\n",
    "\n",
    "output_notebook(hide_banner=True)"
   ]
  },
  {
   "cell_type": "code",
   "execution_count": null,
   "metadata": {
    "hidePrompt": true
   },
   "outputs": [],
   "source": [
    "def plot_sol():\n",
    "\n",
    "    qini = np.array((0.994, 0.))\n",
    "    pini = np.array((0., -2.00158510637908252240537862224))\n",
    "    yini = np.concatenate((qini, pini))\n",
    "        \n",
    "    tini = 0.\n",
    "    tend = 1*18. #18 roughly corresponds to 1 period\n",
    "        \n",
    "    am = arenstorf_model(mu=0.012277471)\n",
    "    fcn  = am.fcn \n",
    "    V_q = am.V_q\n",
    "    Fp   = am.Fp\n",
    "    expp = am.expp\n",
    "        \n",
    "    fig = figure()\n",
    "        \n",
    "\n",
    "    nt = 50001\n",
    "    ysco = integration.scovel(tini, tend, nt, yini, V_q, Fp, expp)\n",
    "    fig.x(ysco[:,0], ysco[:,1], color=\"red\", legend_label=\"Scovel nt=\" + str(nt))\n",
    "    \n",
    "    nt = 20001\n",
    "    yo815 = integration.optimized_815_scov(tini, tend, nt, yini, V_q, Fp, expp)\n",
    "    fig.x(yo815[:,0], yo815[:,1], color=\"blue\", legend_label=\"Optimized 815 nt=\" + str(nt))\n",
    "\n",
    "    tol = 1.e-6\n",
    "    sol_rk45 = solve_ivp(fcn, (tini, tend), yini, method=\"RK45\", rtol=tol, atol=tol)\n",
    "    fig.x(sol_rk45.y[0], sol_rk45.y[1], color=\"green\", legend_label=\"RK45 tol=\" + str(tol))\n",
    "    \n",
    "    sol_dopri853 = solve_ivp(fcn, (tini, tend), yini, method=\"DOP853\", rtol=tol, atol=tol)\n",
    "    fig.x(sol_dopri853.y[0], sol_dopri853.y[1], color=\"magenta\", legend_label=\"Dopri853 tol=\" + str(tol))\n",
    "    \n",
    "    fig.legend.background_fill_alpha = 0.75\n",
    "    fig.legend.click_policy=\"hide\"\n",
    "    show(fig)\n",
    "    \n",
    "plot_sol()"
   ]
  },
  {
   "cell_type": "code",
   "execution_count": null,
   "metadata": {},
   "outputs": [],
   "source": []
  }
 ],
 "metadata": {
  "@webio": {
   "lastCommId": null,
   "lastKernelId": null
  },
  "kernelspec": {
   "display_name": "Python 3",
   "language": "python",
   "name": "python3"
  },
  "language_info": {
   "codemirror_mode": {
    "name": "ipython",
    "version": 3
   },
   "file_extension": ".py",
   "mimetype": "text/x-python",
   "name": "python",
   "nbconvert_exporter": "python",
   "pygments_lexer": "ipython3",
   "version": "3.7.6"
  },
  "latex_envs": {
   "LaTeX_envs_menu_present": true,
   "autoclose": false,
   "autocomplete": false,
   "bibliofile": "biblio.bib",
   "cite_by": "apalike",
   "current_citInitial": 1,
   "eqLabelWithNumbers": true,
   "eqNumInitial": 1,
   "hotkeys": {
    "equation": "Ctrl-E",
    "itemize": "Ctrl-I"
   },
   "labels_anchors": false,
   "latex_user_defs": false,
   "report_style_numbering": false,
   "user_envs_cfg": false
  }
 },
 "nbformat": 4,
 "nbformat_minor": 2
}
